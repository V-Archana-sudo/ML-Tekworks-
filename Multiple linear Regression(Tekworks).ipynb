{
 "cells": [
  {
   "cell_type": "code",
   "execution_count": 18,
   "id": "3e19f30b-121b-420d-b963-29a7f7674cda",
   "metadata": {},
   "outputs": [],
   "source": [
    "import numpy as np\n",
    "from sklearn.linear_model import LinearRegression"
   ]
  },
  {
   "cell_type": "code",
   "execution_count": 19,
   "id": "e42177d6-8f25-4537-9a20-9cf029569d50",
   "metadata": {},
   "outputs": [],
   "source": [
    "# Multiple linear regression practical\n",
    "np.random.seed(1)\n",
    "study_hours = np.random.randint(1,10,50)   # np.random.randint(1,10,50) means it will generate 50 values with standard devation of 10 with mean 1.\n",
    "attendance =  np.random.randint(50,100,50) # np.random.randint(50,100,50) means it will generate 50 values with standard devation of 100 with mean 50.\n",
    "sleep_hours = np.random.randint(5,9,50)    # np.random.randint(5,9,50) means it will generate 50 values with standard devation of 9 with mean 5.\n",
    "score = (5*study_hours+0.5*attendance+2*sleep_hours+np.random.normal(0,10,50))"
   ]
  },
  {
   "cell_type": "code",
   "execution_count": 20,
   "id": "17e04d99-aa3d-4b55-a4b9-cf45f9573530",
   "metadata": {},
   "outputs": [
    {
     "name": "stdout",
     "output_type": "stream",
     "text": [
      "    Study_hours  Attendance  SleepHours       Score\n",
      "0             6          59           6   70.033103\n",
      "1             9          53           5   81.734928\n",
      "2             6          89           6   83.916978\n",
      "3             1          73           5   69.891562\n",
      "4             1          86           5   56.060104\n",
      "5             2          77           7   78.241315\n",
      "6             8          87           5  101.069005\n",
      "7             7          69           6   76.228757\n",
      "8             3          88           7   65.465705\n",
      "9             5          58           8   70.899466\n",
      "10            6          82           5   97.817123\n",
      "11            3          84           6   67.093255\n",
      "12            5          60           8   69.409156\n",
      "13            3          73           6   49.768690\n",
      "14            5          65           5   67.980326\n",
      "15            8          97           7   86.796670\n",
      "16            8          73           5   73.547770\n",
      "17            2          75           5   58.245460\n",
      "18            8          57           5   69.680468\n",
      "19            1          78           5   51.670944\n",
      "20            7          60           6   67.449013\n",
      "21            8          96           7  102.235502\n",
      "22            7          82           5   76.297154\n",
      "23            2          74           6   51.357491\n",
      "24            1          73           5   48.848546\n",
      "25            2          51           7   47.770783\n",
      "26            9          99           8   91.664993\n",
      "27            9          63           6  104.579571\n",
      "28            4          53           7   71.953024\n",
      "29            9          50           5   75.164157\n",
      "30            8          63           5   91.694036\n",
      "31            4          56           8   54.141321\n",
      "32            7          71           7   72.050441\n",
      "33            6          56           7   91.238618\n",
      "34            2          52           7   45.570493\n",
      "35            4          62           5   76.455241\n",
      "36            5          77           6   56.315635\n",
      "37            9          71           7   84.550816\n",
      "38            2          61           7   50.419478\n",
      "39            5          57           7   68.523022\n",
      "40            1          63           7   41.833778\n",
      "41            4          58           8   68.612356\n",
      "42            3          61           8   52.121357\n",
      "43            1          62           5   32.143437\n",
      "44            5          93           7   82.111195\n",
      "45            3          70           8   64.207446\n",
      "46            8          80           6   89.590527\n",
      "47            8          86           6   92.523014\n",
      "48            9          89           7  101.814801\n",
      "49            7          57           5   79.237092\n"
     ]
    }
   ],
   "source": [
    "# dataframe\n",
    "df=pd.DataFrame({\n",
    "   'Study_hours': study_hours,\n",
    "    'Attendance': attendance,\n",
    "    'SleepHours': sleep_hours,\n",
    "    'Score': score\n",
    "})\n",
    "print(df)"
   ]
  },
  {
   "cell_type": "code",
   "execution_count": 23,
   "id": "2b9f4e9b-a3a7-4207-9a2d-9526980bb162",
   "metadata": {},
   "outputs": [
    {
     "data": {
      "text/html": [
       "<style>#sk-container-id-1 {color: black;background-color: white;}#sk-container-id-1 pre{padding: 0;}#sk-container-id-1 div.sk-toggleable {background-color: white;}#sk-container-id-1 label.sk-toggleable__label {cursor: pointer;display: block;width: 100%;margin-bottom: 0;padding: 0.3em;box-sizing: border-box;text-align: center;}#sk-container-id-1 label.sk-toggleable__label-arrow:before {content: \"▸\";float: left;margin-right: 0.25em;color: #696969;}#sk-container-id-1 label.sk-toggleable__label-arrow:hover:before {color: black;}#sk-container-id-1 div.sk-estimator:hover label.sk-toggleable__label-arrow:before {color: black;}#sk-container-id-1 div.sk-toggleable__content {max-height: 0;max-width: 0;overflow: hidden;text-align: left;background-color: #f0f8ff;}#sk-container-id-1 div.sk-toggleable__content pre {margin: 0.2em;color: black;border-radius: 0.25em;background-color: #f0f8ff;}#sk-container-id-1 input.sk-toggleable__control:checked~div.sk-toggleable__content {max-height: 200px;max-width: 100%;overflow: auto;}#sk-container-id-1 input.sk-toggleable__control:checked~label.sk-toggleable__label-arrow:before {content: \"▾\";}#sk-container-id-1 div.sk-estimator input.sk-toggleable__control:checked~label.sk-toggleable__label {background-color: #d4ebff;}#sk-container-id-1 div.sk-label input.sk-toggleable__control:checked~label.sk-toggleable__label {background-color: #d4ebff;}#sk-container-id-1 input.sk-hidden--visually {border: 0;clip: rect(1px 1px 1px 1px);clip: rect(1px, 1px, 1px, 1px);height: 1px;margin: -1px;overflow: hidden;padding: 0;position: absolute;width: 1px;}#sk-container-id-1 div.sk-estimator {font-family: monospace;background-color: #f0f8ff;border: 1px dotted black;border-radius: 0.25em;box-sizing: border-box;margin-bottom: 0.5em;}#sk-container-id-1 div.sk-estimator:hover {background-color: #d4ebff;}#sk-container-id-1 div.sk-parallel-item::after {content: \"\";width: 100%;border-bottom: 1px solid gray;flex-grow: 1;}#sk-container-id-1 div.sk-label:hover label.sk-toggleable__label {background-color: #d4ebff;}#sk-container-id-1 div.sk-serial::before {content: \"\";position: absolute;border-left: 1px solid gray;box-sizing: border-box;top: 0;bottom: 0;left: 50%;z-index: 0;}#sk-container-id-1 div.sk-serial {display: flex;flex-direction: column;align-items: center;background-color: white;padding-right: 0.2em;padding-left: 0.2em;position: relative;}#sk-container-id-1 div.sk-item {position: relative;z-index: 1;}#sk-container-id-1 div.sk-parallel {display: flex;align-items: stretch;justify-content: center;background-color: white;position: relative;}#sk-container-id-1 div.sk-item::before, #sk-container-id-1 div.sk-parallel-item::before {content: \"\";position: absolute;border-left: 1px solid gray;box-sizing: border-box;top: 0;bottom: 0;left: 50%;z-index: -1;}#sk-container-id-1 div.sk-parallel-item {display: flex;flex-direction: column;z-index: 1;position: relative;background-color: white;}#sk-container-id-1 div.sk-parallel-item:first-child::after {align-self: flex-end;width: 50%;}#sk-container-id-1 div.sk-parallel-item:last-child::after {align-self: flex-start;width: 50%;}#sk-container-id-1 div.sk-parallel-item:only-child::after {width: 0;}#sk-container-id-1 div.sk-dashed-wrapped {border: 1px dashed gray;margin: 0 0.4em 0.5em 0.4em;box-sizing: border-box;padding-bottom: 0.4em;background-color: white;}#sk-container-id-1 div.sk-label label {font-family: monospace;font-weight: bold;display: inline-block;line-height: 1.2em;}#sk-container-id-1 div.sk-label-container {text-align: center;}#sk-container-id-1 div.sk-container {/* jupyter's `normalize.less` sets `[hidden] { display: none; }` but bootstrap.min.css set `[hidden] { display: none !important; }` so we also need the `!important` here to be able to override the default hidden behavior on the sphinx rendered scikit-learn.org. See: https://github.com/scikit-learn/scikit-learn/issues/21755 */display: inline-block !important;position: relative;}#sk-container-id-1 div.sk-text-repr-fallback {display: none;}</style><div id=\"sk-container-id-1\" class=\"sk-top-container\"><div class=\"sk-text-repr-fallback\"><pre>LinearRegression()</pre><b>In a Jupyter environment, please rerun this cell to show the HTML representation or trust the notebook. <br />On GitHub, the HTML representation is unable to render, please try loading this page with nbviewer.org.</b></div><div class=\"sk-container\" hidden><div class=\"sk-item\"><div class=\"sk-estimator sk-toggleable\"><input class=\"sk-toggleable__control sk-hidden--visually\" id=\"sk-estimator-id-1\" type=\"checkbox\" checked><label for=\"sk-estimator-id-1\" class=\"sk-toggleable__label sk-toggleable__label-arrow\">LinearRegression</label><div class=\"sk-toggleable__content\"><pre>LinearRegression()</pre></div></div></div></div></div>"
      ],
      "text/plain": [
       "LinearRegression()"
      ]
     },
     "execution_count": 23,
     "metadata": {},
     "output_type": "execute_result"
    }
   ],
   "source": [
    "# Selecting model\n",
    "X = df[['Study_hours', 'Attendance', 'SleepHours']]\n",
    "Y = df['Score']\n",
    "model = LinearRegression()\n",
    "model.fit(X,Y)"
   ]
  },
  {
   "cell_type": "code",
   "execution_count": 24,
   "id": "e8b4d0b7-fe1d-4f7b-a176-5650a259b539",
   "metadata": {},
   "outputs": [
    {
     "name": "stdout",
     "output_type": "stream",
     "text": [
      "Coefficients: [4.8658005  0.35883298 0.29424211]\n",
      "Intercept: 19.485101108650817\n"
     ]
    }
   ],
   "source": [
    "print(\"Coefficients:\", model.coef_)\n",
    "print(\"Intercept:\", model.intercept_)"
   ]
  },
  {
   "cell_type": "code",
   "execution_count": null,
   "id": "9b9443fb-c01b-491e-b4b2-93ff7cfd9fb5",
   "metadata": {},
   "outputs": [],
   "source": []
  }
 ],
 "metadata": {
  "kernelspec": {
   "display_name": "Python 3 (ipykernel)",
   "language": "python",
   "name": "python3"
  },
  "language_info": {
   "codemirror_mode": {
    "name": "ipython",
    "version": 3
   },
   "file_extension": ".py",
   "mimetype": "text/x-python",
   "name": "python",
   "nbconvert_exporter": "python",
   "pygments_lexer": "ipython3",
   "version": "3.11.7"
  }
 },
 "nbformat": 4,
 "nbformat_minor": 5
}
